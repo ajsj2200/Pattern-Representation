{
 "cells": [
  {
   "cell_type": "markdown",
   "metadata": {},
   "source": [
    "# **LSTM Autoencoder 기반 클러스터링을 이용한 시계열 표준 패턴 추출 (1)**\n",
    "\n",
    "### 창원대 전자공학과 20145234 황주효 (Hwang Ju-hyo, Department of Electronic Engineering, Changwon University)\n",
    "---\n",
    "\n",
    "과정은 다음과 같다.\n",
    "1. 기준 패턴 설정 및 유사 추출\n",
    "2. LSTM Autoencoder 모델링 및 학습\n",
    "3. encoder output\n",
    "4. T-SNE 및 UMAP 압축 및 시각화 비교\n",
    "5. k-memoids 클러스터링 및 표준 패턴 플로팅"
   ]
  },
  {
   "cell_type": "markdown",
   "metadata": {},
   "source": [
    "## **1. 기준 패턴 설정**\n",
    "---"
   ]
  },
  {
   "cell_type": "markdown",
   "metadata": {},
   "source": [
    "* 사용할 모듈 및 데이터 불러오기"
   ]
  },
  {
   "cell_type": "code",
   "execution_count": 2,
   "metadata": {},
   "outputs": [
    {
     "ename": "ModuleNotFoundError",
     "evalue": "No module named 'ts_dist'",
     "output_type": "error",
     "traceback": [
      "\u001b[1;31m---------------------------------------------------------------------------\u001b[0m",
      "\u001b[1;31mModuleNotFoundError\u001b[0m                       Traceback (most recent call last)",
      "\u001b[1;32m<ipython-input-2-f7df3576514f>\u001b[0m in \u001b[0;36m<module>\u001b[1;34m\u001b[0m\n\u001b[0;32m      6\u001b[0m \u001b[1;32mimport\u001b[0m \u001b[0mnumpy\u001b[0m \u001b[1;32mas\u001b[0m \u001b[0mnp\u001b[0m\u001b[1;33m\u001b[0m\u001b[1;33m\u001b[0m\u001b[0m\n\u001b[0;32m      7\u001b[0m \u001b[1;32mimport\u001b[0m \u001b[0mmatplotlib\u001b[0m\u001b[1;33m.\u001b[0m\u001b[0mpyplot\u001b[0m \u001b[1;32mas\u001b[0m \u001b[0mplt\u001b[0m\u001b[1;33m\u001b[0m\u001b[1;33m\u001b[0m\u001b[0m\n\u001b[1;32m----> 8\u001b[1;33m \u001b[1;32mimport\u001b[0m \u001b[0mts_dist\u001b[0m\u001b[1;33m\u001b[0m\u001b[1;33m\u001b[0m\u001b[0m\n\u001b[0m\u001b[0;32m      9\u001b[0m \u001b[1;32mimport\u001b[0m \u001b[0mpyximport\u001b[0m \u001b[1;31m# pyximport.install()\u001b[0m\u001b[1;33m\u001b[0m\u001b[1;33m\u001b[0m\u001b[0m\n\u001b[0;32m     10\u001b[0m \u001b[1;32mimport\u001b[0m \u001b[0mseaborn\u001b[0m \u001b[1;32mas\u001b[0m \u001b[0msns\u001b[0m\u001b[1;33m\u001b[0m\u001b[1;33m\u001b[0m\u001b[0m\n",
      "\u001b[1;31mModuleNotFoundError\u001b[0m: No module named 'ts_dist'"
     ]
    }
   ],
   "source": [
    "import warnings\n",
    "warnings.filterwarnings('ignore')\n",
    "\n",
    "import pandas as pd\n",
    "from sklearn.preprocessing import MinMaxScaler\n",
    "import numpy as np\n",
    "import matplotlib.pyplot as plt\n",
    "import ts_dist\n",
    "import pyximport # pyximport.install()\n",
    "import seaborn as sns\n",
    "from ts_dist import dtw_dist as dtw_dist_py\n",
    "from ts_dist import lcss_dist as lcss_dist_py\n",
    "from ts_dist import edr_dist as edr_dist_py\n",
    "from datetime import datetime\n",
    "\n",
    "def load_data():\n",
    "    data = pd.read_csv('data_new.csv')\n",
    "    date = datetime.strptime(data['data_date'][0], '%Y-%m-%d %H:%M:%S.%f').strftime('%m/%d/%Y')\n",
    "    date = pd.DataFrame(data['data_date'])\n",
    "    data['date'] = date.applymap(str).applymap(lambda s: '{}-{}-{} {}:{}:{}'.format(\n",
    "        s[0:4], s[5:7], s[8:10],s[11:13],s[14:16],s[17:19]))\n",
    "    data.index = pd.to_datetime(data['date'])\n",
    "    data = data.drop(columns = ['data_date', 'date'])\n",
    "    data = data['2020-12-09 00:00:00':'2020-12-09 23:59:59']\n",
    "    data.columns = ['oil_temperature']\n",
    "    \n",
    "    scaler = MinMaxScaler()\n",
    "    data_s = scaler.fit_transform(data)\n",
    "    data_s = pd.DataFrame(data_s)\n",
    "    data_s.columns = data.columns\n",
    "    data_s.index = data.index\n",
    "    return data_s\n",
    "\n",
    "data = load_data()"
   ]
  },
  {
   "cell_type": "code",
   "execution_count": null,
   "metadata": {},
   "outputs": [],
   "source": []
  }
 ],
 "metadata": {
  "kernelspec": {
   "display_name": "Python 3",
   "language": "python",
   "name": "python3"
  },
  "language_info": {
   "codemirror_mode": {
    "name": "ipython",
    "version": 3
   },
   "file_extension": ".py",
   "mimetype": "text/x-python",
   "name": "python",
   "nbconvert_exporter": "python",
   "pygments_lexer": "ipython3",
   "version": "3.8.5"
  }
 },
 "nbformat": 4,
 "nbformat_minor": 4
}
